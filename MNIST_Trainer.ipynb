{
 "cells": [
  {
   "cell_type": "code",
   "execution_count": 1,
   "metadata": {},
   "outputs": [],
   "source": [
    "# Imports\n",
    "from __future__ import print_function\n",
    "import argparse\n",
    "import torch\n",
    "import torch.nn as nn\n",
    "import torch.nn.functional as F\n",
    "import torch.optim as optim\n",
    "from torchvision import datasets, transforms"
   ]
  },
  {
   "cell_type": "markdown",
   "metadata": {},
   "source": [
    "### We are using a convolutional neural network for this task\n",
    "More info: https://towardsdatascience.com/a-comprehensive-guide-to-convolutional-neural-networks-the-eli5-way-3bd2b1164a53\n",
    "\n",
    "#### We could have used a regular fully-connected network as well, but this performs better and reduces compute complexity"
   ]
  },
  {
   "cell_type": "code",
   "execution_count": 2,
   "metadata": {},
   "outputs": [],
   "source": [
    "# Define our network\n",
    "class Conv_Net(nn.Module):\n",
    "    def __init__(self):\n",
    "        super(Conv_Net, self).__init__()\n",
    "        \n",
    "        # Convolutional layers defined as (in_channels, out_channels, kernel_size, stride)\n",
    "        self.conv1 = nn.Conv2d(1, 20, 5, 1)\n",
    "        self.conv2 = nn.Conv2d(20, 50, 5, 1)\n",
    "        \n",
    "        # Fully connected linear layers defined as (in_units, out_units)\n",
    "        self.fc1 = nn.Linear(18*18*50, 500)\n",
    "        self.fc2 = nn.Linear(500, 10)\n",
    "        \n",
    "        # Non-linear activation. It is the function y = max(0, x)\n",
    "        self.relu = nn.ReLU()\n",
    "        \n",
    "        # Pool after convolution, makes the network translation invariant as well as reducing complexity\n",
    "        self.pool = nn.MaxPool2d(2, stride=1) \n",
    "\n",
    "    def forward(self, x):\n",
    "        x = self.relu(self.conv1(x)) # Calculate linear convolution that pass through non-linear function\n",
    "        x = self.pool(x) # Get the max of each 2 by 2 square\n",
    "        x = self.relu(self.conv2(x)) # Repeat for second layer with more channels\n",
    "        x = self.pool(x) # Pool again\n",
    "        x = x.view(-1, 18*18*50) # Transform from 2D matrix to a vector for fully-connected layers\n",
    "        x = self.relu(self.fc1(x)) # Pass through fully connected linear layer and apply non-linear function\n",
    "        x = self.fc2(x) # Pass through linear layer. DON'T APPLY NON-LINEAR ON LAST LAYER\n",
    "        return F.log_softmax(x, dim=1) # Use softmax to transform outputs to probabilities"
   ]
  },
  {
   "cell_type": "code",
   "execution_count": 3,
   "metadata": {},
   "outputs": [],
   "source": [
    "# Define linear network\n",
    "class Linear_Net(nn.Module):\n",
    "    def __init__(self):\n",
    "        super(Linear_Net, self).__init__()\n",
    "        \n",
    "        # Fully connected linear layers defined as (in_units, out_units)\n",
    "        self.fc1 = nn.Linear(28*28, 500)\n",
    "        self.fc2 = nn.Linear(500, 10)\n",
    "        \n",
    "        # Non-linear activation. It is the function y = max(0, x)\n",
    "        self.relu = nn.ReLU()\n",
    "\n",
    "    def forward(self, x):\n",
    "#         print(x.shape) # !!!!! BEST WAY TO DEBUG ISSUES, PRINT SHAPES OF THE TENSORS !!!!!\n",
    "        x = x.view(-1, 28*28)\n",
    "        x = self.relu(self.fc1(x)) # Pass through fully connected linear layer and apply non-linear function\n",
    "        x = self.fc2(x) # Pass through linear layer. DON'T APPLY NON-LINEAR ON LAST LAYER\n",
    "        return F.log_softmax(x, dim=1) # Use softmax to transform outputs to probabilities (log_softmax performs better)"
   ]
  },
  {
   "cell_type": "code",
   "execution_count": 4,
   "metadata": {},
   "outputs": [],
   "source": [
    "# Training function\n",
    "def train(args, model, device, train_loader, optimizer, epoch):\n",
    "    model.train()\n",
    "    epoch_loss = 0 # Accumulate loss from every batch for the whole epoch\n",
    "    for batch_idx, (data, target) in enumerate(train_loader):\n",
    "        data, target = data.to(device), target.to(device)\n",
    "        optimizer.zero_grad() # Reset accumulated gradient before computing again\n",
    "        output = model(data)\n",
    "        loss = F.cross_entropy(output, target, reduction='sum') # Calculate loss (error)\n",
    "        loss.backward() # Calculate the gradients for weights (Backward pass)\n",
    "        optimizer.step() # Make the optimizer perform a descent step using the gradient calculated\n",
    "        epoch_loss += loss.item()\n",
    "        \n",
    "        if batch_idx % args['log_interval'] == 0:\n",
    "            print('Train Epoch: {} [{}/{} ({:.0f}%)]\\tLoss: {:.6f}'.format(\n",
    "                epoch, batch_idx * len(data), len(train_loader.dataset),\n",
    "                100. * batch_idx / len(train_loader), loss.item()))\n",
    "    return epoch_loss / len(train_loader.dataset)"
   ]
  },
  {
   "cell_type": "code",
   "execution_count": 5,
   "metadata": {},
   "outputs": [],
   "source": [
    "# Test function\n",
    "def test(args, model, device, test_loader):\n",
    "    model.eval()\n",
    "    test_loss = 0\n",
    "    correct = 0\n",
    "    with torch.no_grad():\n",
    "        for data, target in test_loader:\n",
    "            data, target = data.to(device), target.to(device)\n",
    "            output = model(data)\n",
    "            test_loss += F.cross_entropy(output, target, reduction='sum').item() # sum up batch loss\n",
    "            pred = output.argmax(dim=1, keepdim=True) # get the index of the max log-probability\n",
    "            correct += pred.eq(target.view_as(pred)).sum().item()\n",
    "\n",
    "    test_loss /= len(test_loader.dataset)\n",
    "\n",
    "    print('\\nTest set: Average loss: {:.4f}, Accuracy: {}/{} ({:.0f}%)\\n'.format(\n",
    "        test_loss, correct, len(test_loader.dataset),\n",
    "        100. * correct / len(test_loader.dataset)))\n",
    "    return test_loss"
   ]
  },
  {
   "cell_type": "code",
   "execution_count": 6,
   "metadata": {},
   "outputs": [],
   "source": [
    "args = {'batch_size': 10000, # How many images per batch. \n",
    "                             # A batch is the set of images for which we perform gradient descent on at once. \n",
    "                            # We go through the whole dataset in batches.\n",
    "        \n",
    "        'test_batch_size': 1000, \n",
    "        'epochs': 10, # Number of times we should go through the whole dataset and train\n",
    "        'lr': 0.001, # Learning rate\n",
    "        'momentum': 0.5, # Momentum term for the SGD optimizer\n",
    "        'seed': 4, # Random seed\n",
    "        'log_interval': 10, # Batch interval at which we should log to the terminal\n",
    "        'optim': 'Adam', # Optimizer selection\n",
    "        'save_model': False, # Save model to a file\n",
    "        'linear': False} # Use linear model if True, convolutional if False"
   ]
  },
  {
   "cell_type": "code",
   "execution_count": 7,
   "metadata": {},
   "outputs": [],
   "source": [
    "# Initialize loaders. These load the data from the specified files into memory.\n",
    "kwargs = {'num_workers': 2, 'pin_memory': True} # If using CUDA, if not make it empty as it doesn't matter\n",
    "\n",
    "# Training data is used for optimizing the weights in the network\n",
    "train_loader = torch.utils.data.DataLoader(\n",
    "    datasets.MNIST('./data', train=True, download=True,\n",
    "               transform=transforms.Compose([\n",
    "                   transforms.ToTensor()\n",
    "               ])),\n",
    "    batch_size=args['batch_size'], shuffle=True, **kwargs)\n",
    "\n",
    "# Test data is unseen by the network and is NOT used for changing the weights\n",
    "# This allows us to see how well the network does on new data and if it generalizes or not\n",
    "test_loader = torch.utils.data.DataLoader(\n",
    "    datasets.MNIST('./data', train=False, transform=transforms.Compose([\n",
    "                   transforms.ToTensor()\n",
    "               ])),\n",
    "    batch_size=args['test_batch_size'], shuffle=True, **kwargs)"
   ]
  },
  {
   "cell_type": "markdown",
   "metadata": {},
   "source": [
    "### To load custom datasets follow the guide: https://github.com/utkuozbulak/pytorch-custom-dataset-examples\n",
    "* Load all items at once in \\_\\_init__ if dataset fits on memory.\n",
    "* If the whole dataset doesn't fit on the memory load them from separate files in batches in the \\_\\_getitem__ function."
   ]
  },
  {
   "cell_type": "code",
   "execution_count": 8,
   "metadata": {},
   "outputs": [],
   "source": [
    "# Set a random seed for initalizing the weights so you get the same results every time\n",
    "torch.manual_seed(args['seed'])\n",
    "\n",
    "# Set the computation device\n",
    "use_cuda = True\n",
    "device = torch.device(\"cuda\" if use_cuda else \"cpu\") # Specify if GPU will be used or only CPU"
   ]
  },
  {
   "cell_type": "code",
   "execution_count": 9,
   "metadata": {},
   "outputs": [
    {
     "name": "stdout",
     "output_type": "stream",
     "text": [
      "Train Epoch: 1 [0/60000 (0%)]\tLoss: 23045.927734\n",
      "\n",
      "Test set: Average loss: 0.7823, Accuracy: 7857/10000 (79%)\n",
      "\n",
      "Train Epoch: 2 [0/60000 (0%)]\tLoss: 7930.661133\n",
      "\n",
      "Test set: Average loss: 0.3591, Accuracy: 8929/10000 (89%)\n",
      "\n",
      "Train Epoch: 3 [0/60000 (0%)]\tLoss: 3625.778320\n",
      "\n",
      "Test set: Average loss: 0.2356, Accuracy: 9313/10000 (93%)\n",
      "\n",
      "Train Epoch: 4 [0/60000 (0%)]\tLoss: 2709.160645\n",
      "\n",
      "Test set: Average loss: 0.1696, Accuracy: 9500/10000 (95%)\n",
      "\n",
      "Train Epoch: 5 [0/60000 (0%)]\tLoss: 1772.752197\n",
      "\n",
      "Test set: Average loss: 0.1323, Accuracy: 9629/10000 (96%)\n",
      "\n",
      "Train Epoch: 6 [0/60000 (0%)]\tLoss: 1434.224609\n",
      "\n",
      "Test set: Average loss: 0.0996, Accuracy: 9699/10000 (97%)\n",
      "\n",
      "Train Epoch: 7 [0/60000 (0%)]\tLoss: 1212.413696\n",
      "\n",
      "Test set: Average loss: 0.0842, Accuracy: 9734/10000 (97%)\n",
      "\n",
      "Train Epoch: 8 [0/60000 (0%)]\tLoss: 995.245667\n",
      "\n",
      "Test set: Average loss: 0.0704, Accuracy: 9780/10000 (98%)\n",
      "\n",
      "Train Epoch: 9 [0/60000 (0%)]\tLoss: 826.454590\n",
      "\n",
      "Test set: Average loss: 0.0617, Accuracy: 9802/10000 (98%)\n",
      "\n",
      "Train Epoch: 10 [0/60000 (0%)]\tLoss: 712.211060\n",
      "\n",
      "Test set: Average loss: 0.0546, Accuracy: 9826/10000 (98%)\n",
      "\n"
     ]
    }
   ],
   "source": [
    "# Create the model and move it to the device.\n",
    "model = Linear_Net().to(device) if args['linear']  else Conv_Net().to(device)\n",
    "\n",
    "# Choose the optimizer\n",
    "# SGD is the classic Stochastic Gradient Descent algorithm and it works well\n",
    "# Adam is a newer optimizer method that has adaptive learning weights for each weight and has momentum\n",
    "if args['optim'] == 'SGD':\n",
    "    optimizer = optim.SGD(model.parameters(), lr=args['lr'], momentum=args['momentum'])\n",
    "elif args['optim'] == 'Adam':\n",
    "    optimizer = optim.Adam(model.parameters(), lr=args['lr'])\n",
    "\n",
    "# Train and test for the number of epochs\n",
    "train_losses = []\n",
    "test_losses = []\n",
    "for epoch in range(1, args['epochs'] + 1):\n",
    "    train_loss = train(args, model, device, train_loader, optimizer, epoch)\n",
    "    test_loss = test(args, model, device, test_loader)\n",
    "    train_losses.append(train_loss)\n",
    "    test_losses.append(test_loss)\n",
    "\n",
    "if (args['save_model']):\n",
    "    torch.save(model.state_dict(),\"mnist_cnn.pt\")"
   ]
  },
  {
   "cell_type": "code",
   "execution_count": 10,
   "metadata": {},
   "outputs": [],
   "source": [
    "import matplotlib.pyplot as plt\n",
    "%matplotlib inline"
   ]
  },
  {
   "cell_type": "code",
   "execution_count": 11,
   "metadata": {},
   "outputs": [
    {
     "data": {
      "image/png": "[encoded data removed]",
      "text/plain": [
       "<Figure size 432x288 with 1 Axes>"
      ]
     },
     "metadata": {
      "needs_background": "light"
     },
     "output_type": "display_data"
    }
   ],
   "source": [
    "x = list(range(1, args['epochs']+1))\n",
    "l1, = plt.plot(x, train_losses, label='Train loss')\n",
    "plt.plot(x, test_losses, label='Test loss')\n",
    "plt.legend()\n",
    "plt.xlabel('Epochs')\n",
    "plt.ylabel('Cross entropy error')\n",
    "plt.show()"
   ]
  },
  {
   "cell_type": "code",
   "execution_count": 14,
   "metadata": {},
   "outputs": [],
   "source": [
    "# This is how you load the previously saved model\n",
    "# .cpu() means we are not using a GPU\n",
    "model = Conv_Net().cpu()\n",
    "model.load_state_dict(torch.load('mnist_cnn.pt'))\n",
    "model.eval()\n",
    "data = iter(test_loader)\n",
    "inputs, targets = next(data)"
   ]
  },
  {
   "cell_type": "code",
   "execution_count": 15,
   "metadata": {},
   "outputs": [
    {
     "name": "stdout",
     "output_type": "stream",
     "text": [
      "Network guessed 2\n"
     ]
    },
    {
     "data": {
      "image/png": "[encoded data removed]",
      "text/plain": [
       "<Figure size 432x288 with 1 Axes>"
      ]
     },
     "metadata": {
      "needs_background": "light"
     },
     "output_type": "display_data"
    }
   ],
   "source": [
    "test_on = 331\n",
    "image = inputs[test_on].view(1, 1, 28, 28)\n",
    "plt.imshow(image.view(28,28))\n",
    "guess = model(image).argmax(dim=1).item()\n",
    "print(f'Network guessed {guess}')"
   ]
  }
 ],
 "metadata": {
  "kernelspec": {
   "display_name": "Python 3",
   "language": "python",
   "name": "python3"
  },
  "language_info": {
   "codemirror_mode": {
    "name": "ipython",
    "version": 3
   },
   "file_extension": ".py",
   "mimetype": "text/x-python",
   "name": "python",
   "nbconvert_exporter": "python",
   "pygments_lexer": "ipython3",
   "version": "3.7.4"
  }
 },
 "nbformat": 4,
 "nbformat_minor": 2
}
